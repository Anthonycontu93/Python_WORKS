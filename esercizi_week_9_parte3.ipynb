{
 "cells": [
  {
   "cell_type": "code",
   "execution_count": 39,
   "id": "8210b759-f9a9-42f2-9d6d-73b5865e8527",
   "metadata": {},
   "outputs": [
    {
     "name": "stdout",
     "output_type": "stream",
     "text": [
      "{'Alex': ('Cybersecurity', 1), 'Bob': ('Data Analyst', 2), 'Cindy': ('Backend', 3), 'Dan': ('Frontend', 2), 'Emma': ('Data Analyst', 2), 'Faith': ('Backend', 1), 'Grace': ('Frontend', 3), 'Henry': ('Cybersecurity', 3)}\n",
      "Alex\n",
      "Faith\n"
     ]
    }
   ],
   "source": [
    "# studenti = [\"Alex\", \"Bob\", \"Cindy\", \"Dan\", \"Emma\", \"Faith\", \"Grace\", \"Henry\"] \n",
    "# corsi = [\"Cybersecurity\", \"Data Analyst\", \"Backend\", \"Frontend\", \"Data Analyst\", \"Backend\", \"Frontend\", \"Cybersecurity\"]\n",
    "# edizioni = [1, 2, 3, 2, 2, 1, 3, 3]\n",
    "\n",
    "\n",
    "\n",
    "studenti = [\"Alex\", \"Bob\", \"Cindy\", \"Dan\", \"Emma\", \"Faith\", \"Grace\", \"Henry\"] \n",
    "corsi = [\"Cybersecurity\", \"Data Analyst\", \"Backend\", \"Frontend\", \"Data Analyst\", \"Backend\", \"Frontend\", \"Cybersecurity\"]\n",
    "edizioni = [1, 2, 3, 2, 2, 1, 3, 3]\n",
    "\n",
    "\n",
    "dict_mastro = dict(zip(studenti, zip(corsi, edizioni)))\n",
    "print(dict_mastro)\n",
    "\n",
    "for studente in studenti: \n",
    "    x = (dict_mastro.get(studente))\n",
    "    y = x[1]\n",
    "    if y == 1:\n",
    "        print(studente) \n",
    "    "
   ]
  },
  {
   "cell_type": "code",
   "execution_count": 53,
   "id": "4b788f1f-5792-4777-b79e-634739592e5c",
   "metadata": {},
   "outputs": [
    {
     "name": "stdout",
     "output_type": "stream",
     "text": [
      "['100  $', '200  $', '500  $', '10  $', '50  $', '70  $']\n"
     ]
    }
   ],
   "source": [
    "# Abbiamo una lista di stringhe di prezzi in dollari, che erroneamente sono stati scritti con il simbolo dell'euro:\n",
    "#prezzi = [\"100 €\", \"200 €\", \"500 €\", \"10 €\", \"50 €\", \"70 €\"] cambiare il simbolo dell'euro (€) in quello del dollaro ($) \n",
    "# per ogni stringa nella lista; il risultato sarà memorizzato in un'altra lista.\n",
    "\n",
    "prezzi = [\"100 €\", \"200 €\", \"500 €\", \"10 €\", \"50 €\", \"70 €\"]\n",
    "list_dollar = []\n",
    "\n",
    "for price in prezzi: \n",
    "    dollar_ammount = price.replace(\"€\", \" $\")\n",
    "    list_dollar.append(dollar_ammount)\n",
    "    \n",
    "print(list_dollar)"
   ]
  },
  {
   "cell_type": "code",
   "execution_count": 62,
   "id": "bbde398f-0572-4f41-962b-882803a26a01",
   "metadata": {},
   "outputs": [
    {
     "name": "stdout",
     "output_type": "stream",
     "text": [
      "['Alex', 'Cindy', 'Emma', 'Grace', 'Isabelle']\n",
      "['Bob', 'Dan', 'Faith', 'Henry', 'John']\n"
     ]
    }
   ],
   "source": [
    "studenti = [\"Alex\", \"Bob\", \"Cindy\", \"Dan\", \"Emma\", \"Faith\", \"Grace\", \"Henry\", \"Isabelle\", \"John\"] \n",
    "# vogliamo dividere gli studenti in due squadre per un campionato di Uno nel seguente modo: selezioneremo i nomi in posizione pari per un squadra,\n",
    "# e i nomi in posizione dispari per l'altra. Creiamo due liste per ogni squadra, e alla fine visualizziamole.\n",
    "\n",
    "lista_pari = []\n",
    "lista_dispari = []\n",
    "\n",
    "i = 2\n",
    "count = 2\n",
    "\n",
    "for studente in studenti:\n",
    "    resto = i % count\n",
    "    if resto == 0:\n",
    "        lista_pari.append(studente)\n",
    "        i = i + 1\n",
    "    else:\n",
    "        lista_dispari.append(studente) \n",
    "        i = i +1\n",
    "\n",
    "print(lista_pari)\n",
    "print(lista_dispari)\n",
    "        \n",
    "    "
   ]
  },
  {
   "cell_type": "code",
   "execution_count": 176,
   "id": "9e4b8fc2-6a9b-4774-89e3-f3bc41967acf",
   "metadata": {},
   "outputs": [
    {
     "name": "stdout",
     "output_type": "stream",
     "text": [
      "100\n",
      "1\n",
      "mese 1: 100 media precedente: non c'è questo è il primo mese\n",
      "90\n",
      "2\n",
      "mese 12: 90 media precedente: 90\n",
      "totale venduto: 190\n",
      "media mesi precendenti: 95.0\n",
      "70\n",
      "3\n",
      "mese 12: 70 media precedente: 95.0\n",
      "totale venduto: 260\n",
      "media mesi precendenti: 86.66666666666667\n",
      "40\n",
      "4\n",
      "mese 12: 40 media precedente: 86.66666666666667\n",
      "totale venduto: 300\n",
      "media mesi precendenti: 75.0\n",
      "50\n",
      "5\n",
      "mese 12: 50 media precedente: 75.0\n",
      "totale venduto: 350\n",
      "media mesi precendenti: 70.0\n",
      "80\n",
      "6\n",
      "mese 12: 80 media precedente: 70.0\n",
      "totale venduto: 430\n",
      "media mesi precendenti: 71.66666666666667\n",
      "90\n",
      "7\n",
      "mese 12: 90 media precedente: 71.66666666666667\n",
      "totale venduto: 520\n",
      "media mesi precendenti: 74.28571428571429\n",
      "120\n",
      "8\n",
      "mese 12: 120 media precedente: 74.28571428571429\n",
      "totale venduto: 640\n",
      "media mesi precendenti: 80.0\n",
      "80\n",
      "9\n",
      "mese 12: 80 media precedente: 80.0\n",
      "totale venduto: 720\n",
      "media mesi precendenti: 80.0\n",
      "20\n",
      "10\n",
      "mese 12: 20 media precedente: 80.0\n",
      "totale venduto: 740\n",
      "media mesi precendenti: 74.0\n",
      "50\n",
      "11\n",
      "mese 12: 50 media precedente: 74.0\n",
      "totale venduto: 790\n",
      "media mesi precendenti: 71.81818181818181\n",
      "50\n",
      "12\n",
      "mese 12: 50 media precedente: 71.81818181818181\n",
      "totale venduto: 840\n",
      "media mesi precendenti: 70.0\n"
     ]
    }
   ],
   "source": [
    "# Abbiamo una lista con i guadagni degli ultimi 12 mesi (supponiamo da Gennaio a Dicembre): guadagni = [100, 90, 70, 40, 50, 80, 90, 120, 80, 20, 50, 50] \n",
    "# dobbiamo confrontare, stampando tutto a video, il guadagno di ogni mese con la media dei guadagni precedenti, e specificare nell'output se il guadagno attuale è maggiore\n",
    "# o minore della media dei precedenti. Esempio di un possibile output : Mese 1: 100 € Mese 2: 90 € (media prec: 100 € - il guadagno attuale è minore\n",
    "\n",
    "guadagni = [100, 90, 70, 40, 50, 80, 90, 120, 80, 20, 50, 50] \n",
    "mese_n = 0\n",
    "media = 0 \n",
    "tot = 0 \n",
    "primo_incasso = 0 \n",
    "\n",
    "for incasso in guadagni:\n",
    "\n",
    "    tot = tot + int(incasso) \n",
    "    \n",
    "    if mese_n == 0:\n",
    "        mese_n = mese_n + 1\n",
    "        print(mese_n)\n",
    "        print(f\"mese {mese_n}:\", incasso, \"media precedente: non c'è questo è il primo mese\")\n",
    "   \n",
    "  \n",
    "    elif mese_n == 1:\n",
    "        mese_n = mese_n + 1\n",
    "        print(mese_n)\n",
    "        \n",
    "        print(f\"mese {i}:\", incasso, \"media precedente:\", (primo_mese))\n",
    "        \n",
    "        media = tot / mese_n \n",
    "        print(\"totale venduto:\",tot) \n",
    "        print(\"media mesi precendenti:\",media)\n",
    "     \n",
    "    elif mese_n > 1:\n",
    "        mese_n = mese_n + 1\n",
    "        print(mese_n)\n",
    "\n",
    "        print(f\"mese {i}:\", incasso, \"media precedente:\", media)\n",
    "        media = tot / mese_n \n",
    "        print(\"totale venduto:\",tot) \n",
    "        print(\"media mesi precendenti:\",media)\n",
    "        \n",
    "\n"
   ]
  },
  {
   "cell_type": "code",
   "execution_count": null,
   "id": "5cb8c264-3629-4027-a9cc-1adccba852ef",
   "metadata": {},
   "outputs": [],
   "source": []
  }
 ],
 "metadata": {
  "kernelspec": {
   "display_name": "anaconda-panel-2023.05-py310",
   "language": "python",
   "name": "conda-env-anaconda-panel-2023.05-py310-py"
  },
  "language_info": {
   "codemirror_mode": {
    "name": "ipython",
    "version": 3
   },
   "file_extension": ".py",
   "mimetype": "text/x-python",
   "name": "python",
   "nbconvert_exporter": "python",
   "pygments_lexer": "ipython3",
   "version": "3.11.5"
  }
 },
 "nbformat": 4,
 "nbformat_minor": 5
}
