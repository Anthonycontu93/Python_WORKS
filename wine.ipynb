{
 "cells": [
  {
   "cell_type": "code",
   "execution_count": 16,
   "id": "692856bb-048e-42d8-a5dc-fcbda42795b9",
   "metadata": {},
   "outputs": [
    {
     "data": {
      "text/plain": [
       "quality\n",
       "3    10.215000\n",
       "4    10.180093\n",
       "5     9.837783\n",
       "6    10.587553\n",
       "7    11.386006\n",
       "8    11.678756\n",
       "9    12.180000\n",
       "Name: alcohol, dtype: float64"
      ]
     },
     "execution_count": 16,
     "metadata": {},
     "output_type": "execute_result"
    }
   ],
   "source": [
    "import pandas as pd \n",
    "\n",
    "path_dataset2 = \"C:/Users/anthony/Desktop/db_esercitazione/dataset/beginner_datasets/\"\n",
    "file2 = \"wine.csv\"\n",
    "path = path_dataset2 + file2\n",
    "\n",
    "\n",
    "wine = pd.read_csv(path)\n",
    "\n",
    "wine.columns\n",
    "\n",
    "wine.head()\n",
    "\n",
    "wine.sample(10)\n",
    "\n",
    "# raggruppo per quality type\n",
    "wqg = wine.groupby(\"quality\")\n",
    "# meadia su quality \n",
    "wqg.alcohol.mean()\n",
    "\n",
    "\n",
    "\n",
    "\n",
    "\n"
   ]
  },
  {
   "cell_type": "code",
   "execution_count": 5,
   "id": "93b9f2f1-a396-47a9-a0e6-d01abea5c41a",
   "metadata": {},
   "outputs": [
    {
     "data": {
      "text/html": [
       "<div>\n",
       "<style scoped>\n",
       "    .dataframe tbody tr th:only-of-type {\n",
       "        vertical-align: middle;\n",
       "    }\n",
       "\n",
       "    .dataframe tbody tr th {\n",
       "        vertical-align: top;\n",
       "    }\n",
       "\n",
       "    .dataframe thead th {\n",
       "        text-align: right;\n",
       "    }\n",
       "</style>\n",
       "<table border=\"1\" class=\"dataframe\">\n",
       "  <thead>\n",
       "    <tr style=\"text-align: right;\">\n",
       "      <th></th>\n",
       "      <th>count</th>\n",
       "      <th>mean</th>\n",
       "      <th>std</th>\n",
       "      <th>min</th>\n",
       "      <th>25%</th>\n",
       "      <th>50%</th>\n",
       "      <th>75%</th>\n",
       "      <th>max</th>\n",
       "    </tr>\n",
       "    <tr>\n",
       "      <th>type</th>\n",
       "      <th></th>\n",
       "      <th></th>\n",
       "      <th></th>\n",
       "      <th></th>\n",
       "      <th></th>\n",
       "      <th></th>\n",
       "      <th></th>\n",
       "      <th></th>\n",
       "    </tr>\n",
       "  </thead>\n",
       "  <tbody>\n",
       "    <tr>\n",
       "      <th>red</th>\n",
       "      <td>1599.0</td>\n",
       "      <td>10.422983</td>\n",
       "      <td>1.065668</td>\n",
       "      <td>8.4</td>\n",
       "      <td>9.5</td>\n",
       "      <td>10.2</td>\n",
       "      <td>11.1</td>\n",
       "      <td>14.9</td>\n",
       "    </tr>\n",
       "    <tr>\n",
       "      <th>white</th>\n",
       "      <td>4898.0</td>\n",
       "      <td>10.514267</td>\n",
       "      <td>1.230621</td>\n",
       "      <td>8.0</td>\n",
       "      <td>9.5</td>\n",
       "      <td>10.4</td>\n",
       "      <td>11.4</td>\n",
       "      <td>14.2</td>\n",
       "    </tr>\n",
       "  </tbody>\n",
       "</table>\n",
       "</div>"
      ],
      "text/plain": [
       "        count       mean       std  min  25%   50%   75%   max\n",
       "type                                                          \n",
       "red    1599.0  10.422983  1.065668  8.4  9.5  10.2  11.1  14.9\n",
       "white  4898.0  10.514267  1.230621  8.0  9.5  10.4  11.4  14.2"
      ]
     },
     "execution_count": 5,
     "metadata": {},
     "output_type": "execute_result"
    }
   ],
   "source": [
    "# raggruppo su type \n",
    "red_white = wine.groupby(\"type\")\n",
    "red_white.alcohol.mean()\n",
    "red_white.alcohol.describe()"
   ]
  },
  {
   "cell_type": "code",
   "execution_count": 7,
   "id": "14229ca1-6950-47d0-9ff3-e1ee31120dc2",
   "metadata": {},
   "outputs": [
    {
     "data": {
      "text/plain": [
       "3.2185008465445586"
      ]
     },
     "execution_count": 7,
     "metadata": {},
     "output_type": "execute_result"
    }
   ],
   "source": [
    "wine.pH.mean()"
   ]
  },
  {
   "cell_type": "code",
   "execution_count": 15,
   "id": "6e1fd516-a7ae-47ce-8a1d-ef1422789734",
   "metadata": {},
   "outputs": [
    {
     "data": {
      "text/plain": [
       "type\n",
       "red      0.658149\n",
       "white    0.489847\n",
       "Name: sulphates, dtype: float64"
      ]
     },
     "execution_count": 15,
     "metadata": {},
     "output_type": "execute_result"
    }
   ],
   "source": [
    "red_white.pH.mean()\n",
    "# il dataframe non ha attributo columns quindi ricordarsi che si usa il .columns su DataFrame \n",
    "red_white.sulphates.mean()\n"
   ]
  },
  {
   "cell_type": "code",
   "execution_count": null,
   "id": "b23178af-d9fa-401c-8d95-6b445e4624fa",
   "metadata": {},
   "outputs": [],
   "source": []
  }
 ],
 "metadata": {
  "kernelspec": {
   "display_name": "Python 3 (ipykernel)",
   "language": "python",
   "name": "python3"
  },
  "language_info": {
   "codemirror_mode": {
    "name": "ipython",
    "version": 3
   },
   "file_extension": ".py",
   "mimetype": "text/x-python",
   "name": "python",
   "nbconvert_exporter": "python",
   "pygments_lexer": "ipython3",
   "version": "3.11.8"
  }
 },
 "nbformat": 4,
 "nbformat_minor": 5
}
