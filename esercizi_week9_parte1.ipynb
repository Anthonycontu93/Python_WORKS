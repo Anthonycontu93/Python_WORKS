{
 "cells": [
  {
   "cell_type": "code",
   "execution_count": null,
   "id": "2fb28c1c-051c-4cb5-9510-f0b2f00d6b17",
   "metadata": {},
   "outputs": [],
   "source": [
    "#Esercizio Verificare, per ognuna delle seguenti stringhe, se il numero di caratteri è compreso tra 5 e 8: \n",
    "# str1 = \"Windows\" • str2 = \"Excel\" • str3 = \"Powerpoint\" • str4 = \"Word\"\n"
   ]
  },
  {
   "cell_type": "code",
   "execution_count": 65,
   "id": "bc3b4e60-562a-4ac2-afc9-e6953a4950d6",
   "metadata": {},
   "outputs": [],
   "source": [
    "str1 = \"Windows\"\n",
    "str2 = \"Excel\"\n",
    "str3 = \"Powerpoint\"\n",
    "str_1, str_2, str_3 = len(str1), len(str2) , len(str3) "
   ]
  },
  {
   "cell_type": "code",
   "execution_count": 67,
   "id": "101c9538-c745-4547-83fc-103b49788be4",
   "metadata": {},
   "outputs": [
    {
     "name": "stdout",
     "output_type": "stream",
     "text": [
      "True\n"
     ]
    }
   ],
   "source": [
    "print((str_3) >= 5 and len(str3) <= 8)"
   ]
  },
  {
   "cell_type": "code",
   "execution_count": 61,
   "id": "3c5251b0-df11-4caa-8483-0b5ebbdbe883",
   "metadata": {},
   "outputs": [
    {
     "name": "stdout",
     "output_type": "stream",
     "text": [
      "True\n"
     ]
    }
   ],
   "source": [
    "print((str_2) >= 5 and (str_2) <= 8)"
   ]
  },
  {
   "cell_type": "code",
   "execution_count": null,
   "id": "e1bcc358-264e-4ffe-b5bb-b3b83dcfade9",
   "metadata": {},
   "outputs": [],
   "source": [
    "# Calcolare e stampare a video quanti secondi ci sono in un anno non bisestile."
   ]
  },
  {
   "cell_type": "code",
   "execution_count": 91,
   "id": "10b4cc60-9162-491e-b00f-1192aa671f27",
   "metadata": {},
   "outputs": [
    {
     "name": "stdout",
     "output_type": "stream",
     "text": [
      "3600\n",
      "86400\n",
      "31622400\n",
      "31622400\n"
     ]
    }
   ],
   "source": [
    "sec_in_ora = (60*60)\n",
    "print(sec_in_ora)\n",
    "sec_in_gg = sec_in_ora * 24\n",
    "print(sec_in_gg)\n",
    "sec_in_anno = sec_in_gg * 366\n",
    "print(sec_in_anno)\n",
    "ore_in_anno_bisestile = 8784\n",
    "sec_in_anno_bisestile = sec_in_ora * ore_in_anno_bisestile\n",
    "\n",
    "print(sec_in_anno_bisestile)"
   ]
  },
  {
   "cell_type": "code",
   "execution_count": 97,
   "id": "7a4c509a-dd57-475c-9cdc-83a932ffc1b7",
   "metadata": {},
   "outputs": [],
   "source": [
    "my_string = \"I am studying Python\"\n",
    "# Trasformarla in modo che tutti i caratteri siano maiuscoli (uppercase) \n",
    "# Trasformarla in modo che tutti i caratteri siano minuscoli (lowercase) \n",
    "# Sostituire la sottostringa \"Python\" con la stringa \"a lot\" \n",
    "# Usare il metodo .strip(); cambia qualcosa? Perché?\n"
   ]
  },
  {
   "cell_type": "code",
   "execution_count": 115,
   "id": "1ee9708f-ad93-450b-b588-59216e2f7eb7",
   "metadata": {},
   "outputs": [
    {
     "name": "stdout",
     "output_type": "stream",
     "text": [
      "I AM STUDYING PYTHON\n",
      "i am studying python\n",
      "I am studying a lot\n",
      "I am studying Python\n"
     ]
    }
   ],
   "source": [
    "print(my_string.upper())\n",
    "print(my_string.lower())\n",
    "print(my_string.replace(\"Python\", \"a lot\"))\n",
    "print(my_string.strip(\" \"))"
   ]
  }
 ],
 "metadata": {
  "kernelspec": {
   "display_name": "anaconda-panel-2023.05-py310",
   "language": "python",
   "name": "conda-env-anaconda-panel-2023.05-py310-py"
  },
  "language_info": {
   "codemirror_mode": {
    "name": "ipython",
    "version": 3
   },
   "file_extension": ".py",
   "mimetype": "text/x-python",
   "name": "python",
   "nbconvert_exporter": "python",
   "pygments_lexer": "ipython3",
   "version": "3.11.5"
  }
 },
 "nbformat": 4,
 "nbformat_minor": 5
}
