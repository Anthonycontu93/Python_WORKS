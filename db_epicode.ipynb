{
 "cells": [
  {
   "cell_type": "code",
   "execution_count": 4,
   "id": "6383e25d-632a-466e-bc60-f313a20015de",
   "metadata": {},
   "outputs": [],
   "source": [
    "from sqlalchemy import create_engine\n",
    "import dotenv\n",
    "import os\n",
    "import pandas as pd\n",
    "dotenv.load_dotenv(override=True)\n",
    "username = os.getenv('username')\n",
    "password = os.getenv('password')\n",
    "host = os.getenv('host')\n",
    "dbname = os.getenv('dbname')\n",
    "\n",
    "import pandas as pd\n",
    "dbname = \"AdventureWorksDW\"\n",
    "conn_string = f\"mysql+pymysql://{username}:{password}@{host}/{dbname}\"\n",
    "db_engine = create_engine(conn_string)\n",
    "query = \"\"\"SELECT *\n",
    "        FROM dimcustomer\n",
    "        LIMIT 100\n",
    "        \"\"\"\n",
    "df = pd.read_sql(query, db_engine)"
   ]
  },
  {
   "cell_type": "code",
   "execution_count": 7,
   "id": "36104e0c-07ab-4a31-a73e-b4c2b6ebb95c",
   "metadata": {},
   "outputs": [
    {
     "name": "stdout",
     "output_type": "stream",
     "text": [
      "   CustomerKey  GeographyKey CustomerAlternateKey Title  FirstName MiddleName  \\\n",
      "0        11000            26           AW00011000  None        Jon          V   \n",
      "1        11001            37           AW00011001  None     Eugene          L   \n",
      "2        11002            31           AW00011002  None      Ruben       None   \n",
      "3        11003            11           AW00011003  None    Christy       None   \n",
      "4        11004            19           AW00011004  None  Elizabeth       None   \n",
      "5        11005            22           AW00011005  None      Julio       None   \n",
      "6        11006             8           AW00011006  None      Janet          G   \n",
      "7        11007            40           AW00011007  None      Marco       None   \n",
      "8        11008            32           AW00011008  None        Rob       None   \n",
      "9        11009            25           AW00011009  None    Shannon          C   \n",
      "\n",
      "  LastName  NameStyle   BirthDate MaritalStatus  ... EnglishOccupation  \\\n",
      "0     Yang          0  1971-10-06             M  ...      Professional   \n",
      "1    Huang          0  1976-05-10             S  ...      Professional   \n",
      "2   Torres          0  1971-02-09             M  ...      Professional   \n",
      "3      Zhu          0  1973-08-14             S  ...      Professional   \n",
      "4  Johnson          0  1979-08-05             S  ...      Professional   \n",
      "5     Ruiz          0  1976-08-01             S  ...      Professional   \n",
      "6  Alvarez          0  1976-12-02             S  ...      Professional   \n",
      "7    Mehta          0  1969-11-06             M  ...      Professional   \n",
      "8  Verhoff          0  1975-07-04             S  ...      Professional   \n",
      "9  Carlson          0  1969-09-29             S  ...      Professional   \n",
      "\n",
      "  SpanishOccupation FrenchOccupation  HouseOwnerFlag  NumberCarsOwned  \\\n",
      "0       Profesional            Cadre               1                0   \n",
      "1       Profesional            Cadre               0                1   \n",
      "2       Profesional            Cadre               1                1   \n",
      "3       Profesional            Cadre               0                1   \n",
      "4       Profesional            Cadre               1                4   \n",
      "5       Profesional            Cadre               1                1   \n",
      "6       Profesional            Cadre               1                1   \n",
      "7       Profesional            Cadre               1                2   \n",
      "8       Profesional            Cadre               1                3   \n",
      "9       Profesional            Cadre               0                1   \n",
      "\n",
      "          AddressLine1 AddressLine2                Phone DateFirstPurchase  \\\n",
      "0      3761 N. 14th St         None  1 (11) 500 555-0162        2011-01-19   \n",
      "1           2243 W St.         None  1 (11) 500 555-0110        2011-01-15   \n",
      "2     5844 Linden Land         None  1 (11) 500 555-0184        2011-01-07   \n",
      "3     1825 Village Pl.         None  1 (11) 500 555-0162        2010-12-29   \n",
      "4  7553 Harness Circle         None  1 (11) 500 555-0131        2011-01-23   \n",
      "5  7305 Humphrey Drive         None  1 (11) 500 555-0151        2010-12-30   \n",
      "6        2612 Berry Dr         None  1 (11) 500 555-0184        2011-01-24   \n",
      "7     942 Brook Street         None  1 (11) 500 555-0126        2011-01-09   \n",
      "8     624 Peabody Road         None  1 (11) 500 555-0164        2011-01-25   \n",
      "9  3839 Northgate Road         None  1 (11) 500 555-0110        2011-01-27   \n",
      "\n",
      "  CommuteDistance  \n",
      "0       1-2 Miles  \n",
      "1       0-1 Miles  \n",
      "2       2-5 Miles  \n",
      "3      5-10 Miles  \n",
      "4       1-2 Miles  \n",
      "5      5-10 Miles  \n",
      "6      5-10 Miles  \n",
      "7       0-1 Miles  \n",
      "8       10+ Miles  \n",
      "9      5-10 Miles  \n",
      "\n",
      "[10 rows x 29 columns]\n"
     ]
    }
   ],
   "source": [
    "print(df.head(10))"
   ]
  },
  {
   "cell_type": "code",
   "execution_count": null,
   "id": "642b1aef-90d9-4f7e-9ae8-222cedfa6186",
   "metadata": {},
   "outputs": [],
   "source": [
    "# Esercizio L'azienda Object SpA ha creato una lista di quanti oggetti ha venduto ogni mese nell'ultimo anno:\n",
    "lst = [2000, 5500, 7200, 4320, 1280, 1900, 2500, 3900, 6410, 8150, 7100, 5350] \n",
    "#trasformiamola in un array NumPy (casting): lst = np.array(lst) e rispondiamo alle domande del CEO della Object SpA:\n",
    "#• qual è stata la vendita massima mensile? E quella minima? • quali sono le vendite mensili maggiori di 4999 oggetti? E quante ne sono? \n",
    "#• quali sono le vendite minori di 3000 oggetti? • in media quanti oggetti sono stati venduti al mese?"
   ]
  },
  {
   "cell_type": "code",
   "execution_count": 14,
   "id": "2425090e-f687-477f-a6c1-49ab346668d4",
   "metadata": {},
   "outputs": [],
   "source": [
    "import pandas as pd\n",
    "import numpy as np\n",
    "\n",
    "lst = [2000, 5500, 7200, 4320, 1280, 1900, 2500, 3900, 6410, 8150, 7100, 5350] \n",
    "\n",
    "lst_npy = np.array(lst)\n"
   ]
  },
  {
   "cell_type": "code",
   "execution_count": 36,
   "id": "16c79a3f-00f4-41bb-9366-62c08ae6cd27",
   "metadata": {},
   "outputs": [
    {
     "name": "stdout",
     "output_type": "stream",
     "text": [
      "[5500, 7200, 6410, 8150, 7100, 5350]\n",
      "[2000, 1280, 1900, 2500]\n",
      "[5500 7200 6410 8150 7100 5350]\n"
     ]
    }
   ],
   "source": [
    "lst_npy.max()\n",
    "lst_npy.min()\n",
    "oggetti_maggiori_di = []\n",
    "oggetti_minori_di = []\n",
    "\n",
    "condizione = lst_npy > 4999\n",
    "\n",
    "for mese in lst_npy:\n",
    "    if mese > 4999:\n",
    "      oggetti_maggiori_di.append(mese)  \n",
    "print(oggetti_maggiori_di)\n",
    "\n",
    "for mese_vendita in lst_npy:\n",
    "    if mese_vendita < 3000:\n",
    "      oggetti_minori_di.append(mese_vendita)  \n",
    "print(oggetti_minori_di)\n",
    "\n",
    "\n",
    "print(lst_npy[condizione])\n"
   ]
  },
  {
   "cell_type": "code",
   "execution_count": 52,
   "id": "66eeaa16-85de-446e-826e-b76ed5748644",
   "metadata": {},
   "outputs": [
    {
     "name": "stdout",
     "output_type": "stream",
     "text": [
      "1997    12000\n",
      "1998    15000\n",
      "1999    20000\n",
      "2000    23000\n",
      "2001    25000\n",
      "2002    17000\n",
      "2003    14000\n",
      "2004    21000\n",
      "dtype: int64\n"
     ]
    }
   ],
   "source": [
    "#Esercizio Consideriamo il seguente dizionario: \n",
    "fatturati_dict = {1997: 12_000, 1998: 15_000, 1999: 20_000, 2000: 23_000, 2001: 25_000, 2002: 17_000, 2003: 14_000, 2004: 21_000}\n",
    "#Consideriamo ora la seguente Series: \n",
    "fatturati_series = pd.Series([12_000, 15_000, 20_000, 23_000, 25_000, 17_000, 14_000, 21_000],index=range(1997, 2005)) \n",
    "fatturati_series2 = pd.Series(fatturati_dict) #equivalente a quella sopra \n",
    "#Possiamo accedere alle stesse informazioni nello stesso modo: fatturati_dict[1997] fatturati_series[1997]\n",
    "#Dunque qual è la differenza tra i due tipi di dato?\n",
    "#Cosa potremmo fare con la Series che non possiamo fare con il dizionario?\n",
    "print(fatturati_series)\n",
    "\n",
    "fatturati_series_no_index = pd.Series([12_000, 15_000, 20_000, 23_000, 25_000, 17_000, 14_000, 21_000]) "
   ]
  },
  {
   "cell_type": "code",
   "execution_count": 48,
   "id": "0b00b771-a208-40a6-8208-21870c4990d8",
   "metadata": {},
   "outputs": [
    {
     "name": "stdout",
     "output_type": "stream",
     "text": [
      "17000\n"
     ]
    }
   ],
   "source": [
    "print(fatturati_series_no_index[5])\n",
    "\n",
    "#la differenzia tra una series e un dict di python sono che il dict richiede la key corretta per accedere al suo value, mentre le series se non indicizzate possono essere interorgare come una lista"
   ]
  },
  {
   "cell_type": "code",
   "execution_count": 62,
   "id": "13ef9e9e-9461-44cf-a994-1d43b5c36d2a",
   "metadata": {},
   "outputs": [
    {
     "name": "stdout",
     "output_type": "stream",
     "text": [
      "0:00:00 [200, 400, 600, 800, 1000, 1200, 1400, 1600, 1800, 2000]\n",
      "[ 200  400  600  800 1000 1200 1400 1600 1800 2000]\n"
     ]
    }
   ],
   "source": [
    "# L'azienda Object SpA ha un dataset con tutti gli stipendi dei dipendenti, memorizzato in un ndarray: \n",
    "import numpy as np \n",
    "from datetime import *\n",
    "\n",
    "stipendi = np.array( [100, 200, 300, 400, 500,  600, 700, 800, 900, 1000] ) \n",
    "#L'azienda ci chiede di raddoppiare tutti gli stipendi; facciamolo in due modi: • con un ciclo for • con il masking\n",
    "\n",
    "type(stipendi)\n",
    "\n",
    "stipendi_raddoppiati = []\n",
    "\n",
    "stipendi_raddoppiati_ = []\n",
    "\n",
    "#ciclo for \n",
    "for i in stipendi:\n",
    "    start = datetime.now()\n",
    "    stipendi_raddoppiati.append(i * 2)\n",
    "    end = datetime.now()\n",
    "    t = end - start \n",
    "\n",
    "print(t, stipendi_raddoppiati)\n",
    "\n",
    "#masking \n",
    "stipendi_raddoppiati_ = stipendi*2\n",
    "\n",
    "print(stipendi_raddoppiati_)"
   ]
  },
  {
   "cell_type": "code",
   "execution_count": null,
   "id": "7887b0af-c026-4d55-86de-9ac89f9403f1",
   "metadata": {},
   "outputs": [],
   "source": [
    "##### esercitazione 2 week 11 giorno 4 \n",
    "\n"
   ]
  },
  {
   "cell_type": "code",
   "execution_count": 102,
   "id": "6fd829f5-c30d-4734-aa22-e06cba48ddf1",
   "metadata": {},
   "outputs": [
    {
     "data": {
      "text/plain": [
       "array([None, 'Mr.', 'Ms.', 'Mrs.', 'Sr.', 'Ms'], dtype=object)"
      ]
     },
     "execution_count": 102,
     "metadata": {},
     "output_type": "execute_result"
    }
   ],
   "source": [
    "from sqlalchemy import create_engine\n",
    "import dotenv\n",
    "import os\n",
    "import pandas as pd\n",
    "dotenv.load_dotenv(override=True)\n",
    "username = os.getenv('username')\n",
    "password = os.getenv('password')\n",
    "host = os.getenv('host')\n",
    "dbname = os.getenv('dbname')\n",
    "\n",
    "import pandas as pd\n",
    "dbname = \"AdventureWorksDW\"\n",
    "conn_string = f\"mysql+pymysql://{username}:{password}@{host}/{dbname}\"\n",
    "db_engine = create_engine(conn_string)\n",
    "query = \"\"\"SELECT *\n",
    "        FROM dimcustomer\n",
    "        \"\"\"\n",
    "df = pd.read_sql(query, db_engine)\n",
    "\n",
    "# call attribut per vedere colonne e righe totali \n",
    "#print(df.shape)\n",
    "\n",
    "# attributo per vedere nomi colonne non ritorna una lista, ma se vuoi con to.list() puoi fare type casting \n",
    "#df.columns\n",
    "\n",
    "# stampa primo elemento \n",
    "# df.head(1)\n",
    "\n",
    "#stampa ultimo elemento \n",
    "#df.tail(1)\n",
    "\n",
    "#stampa 5 elementi a caso \n",
    "df.sample(5)\n",
    "\n",
    "#scelgiere n righe e n colonne \n",
    "#df.loc[1:5,\"CustomerKey\":\"Title\"]\n",
    "\n",
    "#colori? per selezionare gli attributi singoli basta utilizzare nunique\n",
    "df.nunique()\n",
    "#scegliere la colonna e interrogarla \n",
    "df[\"Title\"].unique()"
   ]
  },
  {
   "cell_type": "code",
   "execution_count": 125,
   "id": "b918870f-57d0-40b4-9a5b-17c09fcaaeed",
   "metadata": {},
   "outputs": [
    {
     "data": {
      "text/plain": [
       "ProductKey               606\n",
       "ProductAlternateKey      504\n",
       "ProductSubcategoryKey     37\n",
       "WeightUnitMeasureCode      2\n",
       "SizeUnitMeasureCode        1\n",
       "EnglishProductName       504\n",
       "SpanishProductName       238\n",
       "FrenchProductName        238\n",
       "StandardCost             131\n",
       "FinishedGoodsFlag          2\n",
       "Color                     10\n",
       "SafetyStockLevel           6\n",
       "ReorderPoint               6\n",
       "ListPrice                119\n",
       "Size                      18\n",
       "SizeRange                 11\n",
       "Weight                   127\n",
       "DaysToManufacture          4\n",
       "ProductLine                4\n",
       "DealerPrice              120\n",
       "Class                      3\n",
       "Style                      3\n",
       "ModelName                119\n",
       "LargePhoto                42\n",
       "EnglishDescription       114\n",
       "FrenchDescription        113\n",
       "ChineseDescription       113\n",
       "ArabicDescription        113\n",
       "HebrewDescription        113\n",
       "ThaiDescription          113\n",
       "GermanDescription        113\n",
       "JapaneseDescription      114\n",
       "TurkishDescription       114\n",
       "StartDate                  4\n",
       "EndDate                    2\n",
       "Status                     1\n",
       "dtype: int64"
      ]
     },
     "execution_count": 125,
     "metadata": {},
     "output_type": "execute_result"
    }
   ],
   "source": [
    "from sqlalchemy import create_engine\n",
    "import dotenv\n",
    "import os\n",
    "import pandas as pd\n",
    "dotenv.load_dotenv(override=True)\n",
    "username = os.getenv('username')\n",
    "password = os.getenv('password')\n",
    "host = os.getenv('host')\n",
    "dbname = os.getenv('dbname')\n",
    "\n",
    "import pandas as pd\n",
    "dbname = \"AdventureWorksDW\"\n",
    "conn_string = f\"mysql+pymysql://{username}:{password}@{host}/{dbname}\"\n",
    "db_engine = create_engine(conn_string)\n",
    "query = \"\"\"SELECT *\n",
    "        FROM dimproduct\n",
    "        \"\"\"\n",
    "df = pd.read_sql(query, db_engine)\n",
    "\n",
    "# call attribut per vedere colonne e righe totali \n",
    "#print(df.shape)\n",
    "\n",
    "# attributo per vedere nomi colonne non ritorna una lista, ma se vuoi con to.list() puoi fare type casting \n",
    "#df.columns\n",
    "\n",
    "# stampa primo elemento \n",
    "# df.head(1)\n",
    "\n",
    "#stampa ultimo elemento \n",
    "#df.tail(1)\n",
    "\n",
    "#stampa 5 elementi a caso \n",
    "#df.sample(5)\n",
    "\n",
    "#scelgiere n righe e n colonne \n",
    "#df.loc[1:5,\"CustomerKey\":\"Title\"]\n",
    "\n",
    "#colori? per selezionare gli attributi singoli basta utilizzare nunique\n",
    "df.nunique()\n",
    "#scegliere la colonna e interrogarla \n",
    "#df[\"Color\"].unique()\n",
    "\n",
    "\n"
   ]
  },
  {
   "cell_type": "code",
   "execution_count": 122,
   "id": "ae3221ee-e0bf-49a5-a2fe-43010406105e",
   "metadata": {},
   "outputs": [
    {
     "name": "stdout",
     "output_type": "stream",
     "text": [
      "56.1932269503546 2.12 1050.0\n"
     ]
    }
   ],
   "source": [
    "print(media_peso, min_weight,max_weight)"
   ]
  },
  {
   "cell_type": "code",
   "execution_count": null,
   "id": "5d73bdcc-e9b8-42de-a15a-61b119533b88",
   "metadata": {},
   "outputs": [],
   "source": [
    "#estrarre series da df per il peso \n",
    "weight_column = df[\"Weight\"][:]\n",
    "\n",
    "#calcolo media \n",
    "media_peso = wight_column.mean()\n",
    "min_weight = wight_column.min()\n",
    "max_weight =wight_column.max()"
   ]
  },
  {
   "cell_type": "code",
   "execution_count": 136,
   "id": "33ccca22-df42-455e-8474-6201c80b8881",
   "metadata": {},
   "outputs": [
    {
     "name": "stdout",
     "output_type": "stream",
     "text": [
      "179     435.0\n",
      "180     450.0\n",
      "181     400.0\n",
      "182     445.0\n",
      "183     450.0\n",
      "184     400.0\n",
      "185     460.0\n",
      "412     900.0\n",
      "413     850.0\n",
      "414     650.0\n",
      "421    1050.0\n",
      "422    1000.0\n",
      "423     890.0\n",
      "500     215.0\n",
      "513     317.0\n",
      "541     218.0\n",
      "542     215.0\n",
      "543     185.0\n",
      "544     189.0\n",
      "545     168.0\n",
      "546     149.0\n",
      "554     317.0\n",
      "555     600.0\n",
      "556     635.0\n",
      "557     575.0\n",
      "600     223.0\n",
      "601     168.0\n",
      "602     170.0\n",
      "Name: Weight, dtype: float64\n"
     ]
    }
   ],
   "source": [
    "#accertamneto per valore più alto \n",
    "mask = weight_column >= 100\n",
    "#aggiungo maschera a series \n",
    "prodotti_peso_maggiore_cento = df[\"Weight\"][:][mask]\n",
    "print(prodotti_peso_maggiore_cento)"
   ]
  },
  {
   "cell_type": "code",
   "execution_count": 141,
   "id": "80cf6b9b-ed8b-4465-9a87-b6c2dcc85383",
   "metadata": {},
   "outputs": [
    {
     "name": "stdout",
     "output_type": "stream",
     "text": [
      "0          NaN\n",
      "1          NaN\n",
      "2          NaN\n",
      "3          NaN\n",
      "4          NaN\n",
      "        ...   \n",
      "601     60.744\n",
      "602     72.894\n",
      "603    323.994\n",
      "604    323.994\n",
      "605    323.994\n",
      "Name: DealerPrice, Length: 606, dtype: float64 448.5970597468353\n"
     ]
    }
   ],
   "source": [
    "prezzi_colonna = df[\"DealerPrice\"]\n",
    "media_prezzo = prezzi_colonna.mean()\n",
    "print(prezzi_colonna, media_prezzo)\n"
   ]
  },
  {
   "cell_type": "code",
   "execution_count": 142,
   "id": "7fd8f9aa-0d6b-419b-aabf-93c5a5ddd8c6",
   "metadata": {},
   "outputs": [
    {
     "data": {
      "text/plain": [
       "(606, 36)"
      ]
     },
     "execution_count": 142,
     "metadata": {},
     "output_type": "execute_result"
    }
   ],
   "source": [
    "df.shape"
   ]
  },
  {
   "cell_type": "code",
   "execution_count": 168,
   "id": "7e4b65ea-0cf0-4ed7-a192-d2299d9d42f3",
   "metadata": {},
   "outputs": [
    {
     "data": {
      "text/html": [
       "<div>\n",
       "<style scoped>\n",
       "    .dataframe tbody tr th:only-of-type {\n",
       "        vertical-align: middle;\n",
       "    }\n",
       "\n",
       "    .dataframe tbody tr th {\n",
       "        vertical-align: top;\n",
       "    }\n",
       "\n",
       "    .dataframe thead th {\n",
       "        text-align: right;\n",
       "    }\n",
       "</style>\n",
       "<table border=\"1\" class=\"dataframe\">\n",
       "  <thead>\n",
       "    <tr style=\"text-align: right;\">\n",
       "      <th></th>\n",
       "      <th>SizeRange</th>\n",
       "      <th>Weight</th>\n",
       "      <th>DaysToManufacture</th>\n",
       "      <th>ProductLine</th>\n",
       "      <th>DealerPrice</th>\n",
       "      <th>Class</th>\n",
       "    </tr>\n",
       "  </thead>\n",
       "  <tbody>\n",
       "    <tr>\n",
       "      <th>237</th>\n",
       "      <td>60-62 CM</td>\n",
       "      <td>2.30</td>\n",
       "      <td>1</td>\n",
       "      <td>R</td>\n",
       "      <td>758.0759</td>\n",
       "      <td>H</td>\n",
       "    </tr>\n",
       "    <tr>\n",
       "      <th>238</th>\n",
       "      <td>60-62 CM</td>\n",
       "      <td>2.30</td>\n",
       "      <td>1</td>\n",
       "      <td>R</td>\n",
       "      <td>780.8182</td>\n",
       "      <td>H</td>\n",
       "    </tr>\n",
       "    <tr>\n",
       "      <th>239</th>\n",
       "      <td>60-62 CM</td>\n",
       "      <td>2.30</td>\n",
       "      <td>1</td>\n",
       "      <td>R</td>\n",
       "      <td>858.9000</td>\n",
       "      <td>H</td>\n",
       "    </tr>\n",
       "    <tr>\n",
       "      <th>240</th>\n",
       "      <td>42-46 CM</td>\n",
       "      <td>2.12</td>\n",
       "      <td>1</td>\n",
       "      <td>R</td>\n",
       "      <td>758.0759</td>\n",
       "      <td>H</td>\n",
       "    </tr>\n",
       "    <tr>\n",
       "      <th>241</th>\n",
       "      <td>42-46 CM</td>\n",
       "      <td>2.12</td>\n",
       "      <td>1</td>\n",
       "      <td>R</td>\n",
       "      <td>780.8182</td>\n",
       "      <td>H</td>\n",
       "    </tr>\n",
       "  </tbody>\n",
       "</table>\n",
       "</div>"
      ],
      "text/plain": [
       "    SizeRange  Weight  DaysToManufacture ProductLine  DealerPrice Class\n",
       "237  60-62 CM    2.30                  1           R     758.0759     H\n",
       "238  60-62 CM    2.30                  1           R     780.8182     H\n",
       "239  60-62 CM    2.30                  1           R     858.9000     H\n",
       "240  42-46 CM    2.12                  1           R     758.0759     H\n",
       "241  42-46 CM    2.12                  1           R     780.8182     H"
      ]
     },
     "execution_count": 168,
     "metadata": {},
     "output_type": "execute_result"
    }
   ],
   "source": [
    "condizione = df[\"DealerPrice\"] > 448\n",
    "db_mask_prezzi_piu_della_media = df.loc[condizione]\n",
    "\n",
    "db_mask_prezzi_piu_della_media.iloc[0:5, 15:21]\n",
    "\n"
   ]
  },
  {
   "cell_type": "code",
   "execution_count": null,
   "id": "7f37d737-0bfd-4226-b349-d4c801452c7d",
   "metadata": {},
   "outputs": [],
   "source": []
  }
 ],
 "metadata": {
  "kernelspec": {
   "display_name": "Python 3 (ipykernel)",
   "language": "python",
   "name": "python3"
  },
  "language_info": {
   "codemirror_mode": {
    "name": "ipython",
    "version": 3
   },
   "file_extension": ".py",
   "mimetype": "text/x-python",
   "name": "python",
   "nbconvert_exporter": "python",
   "pygments_lexer": "ipython3",
   "version": "3.11.8"
  }
 },
 "nbformat": 4,
 "nbformat_minor": 5
}
