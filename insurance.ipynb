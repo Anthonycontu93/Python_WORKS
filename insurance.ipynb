{
 "cells": [
  {
   "cell_type": "code",
   "execution_count": 27,
   "id": "dced50e3-bedb-48a8-989d-3e7b8e717e64",
   "metadata": {},
   "outputs": [
    {
     "name": "stdout",
     "output_type": "stream",
     "text": [
      "12346.937377292308 southwest\n",
      "14735.411437609888 southeast\n",
      "12417.57537396923 northwest\n",
      "13406.384516385804 northeast\n",
      "32050.23183153284 yes\n",
      "8434.268297856204 no\n",
      "nan nan nan\n"
     ]
    }
   ],
   "source": [
    "import pandas as pd \n",
    "\n",
    "path_dataset = \"C:/Users/anthony/Desktop/db_esercitazione/dataset/beginner_datasets/\"\n",
    "file = \"insurance.csv\"\n",
    "path = path_dataset + file\n",
    "ins = pd.read_csv(path)\n",
    "\n",
    "ins.dtypes \n",
    "\n",
    "ins.shape \n",
    "\n",
    "ins.nunique()\n",
    "\n",
    "ins.columns\n",
    "\n",
    "ins.head(10)\n",
    "\n",
    "#meadie dei premi assicurativi \n",
    "reg = ins.groupby(\"region\")\n",
    "\n",
    "# oppure reg.charges.mean()\n",
    "reg[\"charges\"].mean()\n",
    "\n",
    "# quali sono le medie di charges per regione?????\n",
    "\n",
    "# region che attrributo può essere utilizzato come oggetto e poi richiamato\n",
    "ins.region.unique()\n",
    "\n",
    "filtro_sw = ins[\"region\"] == \"southwest\"\n",
    "\n",
    "# prendo solo southwest \n",
    "df_southwest = ins.loc[filtro_sw]\n",
    "\n",
    "# il df che ho preparato mi puo dare la meadia di tutti i charges\n",
    "df_southwest.charges.mean()\n",
    "\n",
    "# con ciclo for \n",
    "for region in ins.region.unique():\n",
    "    filtro_regione = ins.region == region\n",
    "    df_regioni = ins.loc[filtro_regione]\n",
    "    avg_region = df_regioni.charges.mean()\n",
    "    print(avg_region, region)\n",
    "\n",
    "# e rispetto a sex? smoker?\n",
    "\n",
    "#conta valori per ogni campo \n",
    "ins.region.value_counts()\n",
    "\n",
    "for smoker in ins.smoker.unique():\n",
    "    filtro_smoker = ins.smoker == smoker\n",
    "    df_smoker = ins.loc[filtro_smoker]\n",
    "    avg_smoker = df_smoker.charges.mean()\n",
    "    print(avg_smoker, smoker)\n",
    "\n",
    "\n",
    "# per group by \n",
    "smokee = ins.groupby(\"smoker\")\n",
    "smokee.charges.mean()\n",
    "\n",
    "# per sex \n",
    "sex_group = ins.groupby(\"sex\")\n",
    "sex_group.charges.mean()\n",
    "\n",
    "# descrittori statistici di BMI \n",
    "bmi_desc = ins.bmi.describe()\n",
    "# min max meadia diversi quartili \n",
    "init = bmi_desc[\"min\"]\n",
    "val_25 = bmi_desc[\"25%\"]\n",
    "val_50 = bmi_desc[\"50%\"]\n",
    "val_75 = bmi_desc[\"75%\"]\n",
    "\n",
    "filtro_bmi_1 = ins.bmi[(ins.bmi < init) & (ins.bmi <= val_25) ]\n",
    "filtro_bmi_2 = ins.bmi[(ins.bmi < val_25) & (ins.bmi <= val_50) ]\n",
    "\n",
    "bmi_1 = ins.loc[filtro_bmi_1]\n",
    "print(bmi_1.charges.max(),bmi_1.charges.min(),bmi_1.charges.mean())\n",
    "\n",
    "\n",
    "\n"
   ]
  },
  {
   "cell_type": "code",
   "execution_count": 35,
   "id": "9a770d65-52af-4e37-9a7f-e3168dd3103e",
   "metadata": {},
   "outputs": [
    {
     "data": {
      "text/plain": [
       "Index(['age', 'sex', 'bmi', 'children', 'smoker', 'region', 'charges'], dtype='object')"
      ]
     },
     "execution_count": 35,
     "metadata": {},
     "output_type": "execute_result"
    }
   ],
   "source": []
  },
  {
   "cell_type": "code",
   "execution_count": null,
   "id": "dcdd711a-b6ac-4989-9d95-e9e43a421e75",
   "metadata": {},
   "outputs": [],
   "source": []
  },
  {
   "cell_type": "code",
   "execution_count": null,
   "id": "ab1c8260-5141-4676-aa2c-58918bb16813",
   "metadata": {},
   "outputs": [],
   "source": []
  }
 ],
 "metadata": {
  "kernelspec": {
   "display_name": "Python 3 (ipykernel)",
   "language": "python",
   "name": "python3"
  },
  "language_info": {
   "codemirror_mode": {
    "name": "ipython",
    "version": 3
   },
   "file_extension": ".py",
   "mimetype": "text/x-python",
   "name": "python",
   "nbconvert_exporter": "python",
   "pygments_lexer": "ipython3",
   "version": "3.11.8"
  }
 },
 "nbformat": 4,
 "nbformat_minor": 5
}
