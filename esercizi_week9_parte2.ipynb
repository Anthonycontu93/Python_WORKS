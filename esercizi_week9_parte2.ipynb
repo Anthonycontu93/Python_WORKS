{
 "cells": [
  {
   "cell_type": "code",
   "execution_count": 11,
   "id": "d611f1a9-0d17-47da-8ac7-330466677e68",
   "metadata": {},
   "outputs": [
    {
     "name": "stdout",
     "output_type": "stream",
     "text": [
      "E\n",
      "p\n",
      "i\n",
      "c\n",
      "o\n",
      "d\n",
      "e\n",
      "String finished\n"
     ]
    }
   ],
   "source": [
    "# Esercizio Abbiamo la stringa: nome_scuola = \"Epicode\" \n",
    "# Stampare ogni carattere della stringa, uno su ogni riga, utilizzando un costrutto while.\n",
    "\n",
    "nome_scuola = \"Epicode\"\n",
    "i = 0 \n",
    "try: \n",
    "    while i <= len(\"Epicode\"):\n",
    "        print(\"Epicode\"[i])\n",
    "\n",
    "        i += 1\n",
    "except:\n",
    "    print(\"String finished\")\n",
    "\n"
   ]
  },
  {
   "cell_type": "code",
   "execution_count": 15,
   "id": "1636cf2d-99bf-4698-ad1a-b57845aef92c",
   "metadata": {},
   "outputs": [
    {
     "name": "stdout",
     "output_type": "stream",
     "text": [
      "0\n",
      "1\n",
      "2\n",
      "3\n",
      "4\n",
      "5\n",
      "6\n",
      "7\n",
      "8\n",
      "9\n",
      "10\n",
      "11\n",
      "12\n",
      "13\n",
      "14\n",
      "15\n",
      "16\n",
      "17\n",
      "18\n",
      "19\n",
      "20\n"
     ]
    }
   ],
   "source": [
    "# Esercizio Stampare a video tutti i numeri da 0 a 20 utilizzando il costrutto while. Utilizzeremo: \n",
    "# • un ciclo while • la funzione print() \n",
    "# • una variabile, che dovrà essere inizializzata \n",
    "# • una procedura di incremento \n",
    "\n",
    "x = 0 \n",
    "i = 0 \n",
    "\n",
    "while i < 21:\n",
    "    print(x)\n",
    "    x = x +1\n",
    "    i = i +1 \n"
   ]
  },
  {
   "cell_type": "code",
   "execution_count": 27,
   "id": "ca177542-e1c2-4019-86a9-4abfbff38273",
   "metadata": {},
   "outputs": [
    {
     "name": "stdout",
     "output_type": "stream",
     "text": [
      "1\n",
      "2\n",
      "4\n",
      "8\n",
      "16\n",
      "32\n",
      "64\n",
      "128\n",
      "256\n",
      "512\n",
      "1024\n"
     ]
    }
   ],
   "source": [
    "# stampare le prime 10 potenze di due con un ciclo while \n",
    "\n",
    "i = 0 \n",
    "x = 0 \n",
    "radice = 2 \n",
    "potenza = radice ** 4\n",
    "\n",
    "while i <= 10:\n",
    "    potenza = radice ** x \n",
    "    print(potenza)\n",
    "    x += 1\n",
    "    i = i +1"
   ]
  },
  {
   "cell_type": "code",
   "execution_count": 31,
   "id": "5385f9ee-3428-4152-94b4-db2ae181cd91",
   "metadata": {},
   "outputs": [
    {
     "name": "stdin",
     "output_type": "stream",
     "text": [
      "Inserisci N:  4\n"
     ]
    },
    {
     "name": "stdout",
     "output_type": "stream",
     "text": [
      "1\n",
      "2\n",
      "4\n",
      "8\n",
      "16\n"
     ]
    }
   ],
   "source": [
    "# stampare le prime N potenze di due con un ciclo while  chiedere all'untente di inserire N\n",
    "\n",
    "n = input(\"Inserisci N: \")\n",
    "\n",
    "n = int(n)\n",
    "i = 0\n",
    "x = 0 \n",
    "radice = 2 \n",
    "potenza = radice ** 4\n",
    "\n",
    "while i <= n:\n",
    "    potenza = radice ** x \n",
    "    print(potenza)\n",
    "    x += 1\n",
    "    i = i +1\n"
   ]
  },
  {
   "cell_type": "code",
   "execution_count": 39,
   "id": "f23f6b7e-709e-4d22-88f6-c3bae20d3bc1",
   "metadata": {},
   "outputs": [
    {
     "name": "stdout",
     "output_type": "stream",
     "text": [
      "1\n",
      "2\n",
      "4\n",
      "8\n",
      "16\n",
      "32\n",
      "64\n",
      "128\n",
      "256\n",
      "512\n",
      "1024\n",
      "2048\n",
      "4096\n",
      "8192\n",
      "16384\n",
      "valore maggiore del consentito\n"
     ]
    }
   ],
   "source": [
    "# stampare le N potenze di 2 minori di 25000\n",
    "\n",
    "i = 0\n",
    "x = 0 \n",
    "radice = 2 \n",
    "potenza = radice ** 4\n",
    "\n",
    "while potenza < 25000:\n",
    "    potenza = radice ** x \n",
    "    if potenza < 25000:\n",
    "        print(potenza)\n",
    "        x += 1\n",
    "        i = i +1\n",
    "    else: \n",
    "        print(\"valore maggiore del consentito\") "
   ]
  },
  {
   "cell_type": "code",
   "execution_count": 83,
   "id": "976f46b1-a37f-4fb7-b0d1-1066412874e9",
   "metadata": {},
   "outputs": [
    {
     "name": "stdout",
     "output_type": "stream",
     "text": [
      "Le liste hanno lunghezze diverse e non si capsice bene la richiesta\n"
     ]
    }
   ],
   "source": [
    "studenti = [\"Alex\", \"Bob\", \"Cindy\", \"Dan\", \"Emma\", \"Faith\", \"Grace\", \"Henry\"] \n",
    "corsi = [\"Cybersecurity\", \"Data Analyst\", \"Backend\", \"Frontend\", \"Data Analyst\", \"Backend\"]\n",
    "\n",
    "# Esercizio (2/2) Aggiungere i dati mancanti alla lista corsi, sapendo che \n",
    "# Emma segue Data Analyst Faith segue Backend Grace segue Frontend Henry segue Cybersecurity \n",
    "# Aggiungeremo i dati mancanti uno alla volta con il metodo per appendere in coda alle liste, poi \n",
    "# verificheremo che sono della stessa lunghezza e se lo sono stamperemo la lista corsi. Se alcuni dati sono già presenti non vanno aggiunti \n",
    "\n",
    "x = []\n",
    "x = corsi\n",
    "i = 4\n",
    "\n",
    "while i < len(studenti):\n",
    "    corsi.append(studenti[i])\n",
    "    i = i +1 \n",
    "\n",
    "if len(corsi) == len(studenti):\n",
    "    print(corsi)\n",
    "\n",
    "print(\"Le liste hanno lunghezze diverse e non si capsice bene la richiesta\")"
   ]
  },
  {
   "cell_type": "code",
   "execution_count": 155,
   "id": "cd99b73b-ddf5-4cb3-8a38-958c6ea5d95c",
   "metadata": {},
   "outputs": [
    {
     "name": "stdin",
     "output_type": "stream",
     "text": [
      "Inserici una stringa di almeno 6 caratteri:  qweasd\n"
     ]
    },
    {
     "name": "stdout",
     "output_type": "stream",
     "text": [
      "qwe...asd\n"
     ]
    }
   ],
   "source": [
    "# Scriviamo un programma che chiede in input all'utente una stringa e visualizza i primi 3 caratteri,\n",
    "# seguiti da 3 punti di sospensione e quindi gli ultimi 3 caratteri, similmente all'esercizio della lezione scorsa.\n",
    "\n",
    "str_1 = input(\"Inserici una stringa di almeno 6 caratteri: \")\n",
    "while (len(str_1) != 6):\n",
    "    str_1 = input(\"Inserici una stringa di almeno 6 caratteri: \")\n",
    "\n",
    "str_2= (((str_1[:3]),\"...\",(str_1[3:])))\n",
    "print(\"\".join(str_2))    "
   ]
  },
  {
   "cell_type": "code",
   "execution_count": 173,
   "id": "79e74208-a0dc-4aee-8630-a0113bd7ac39",
   "metadata": {},
   "outputs": [
    {
     "name": "stdin",
     "output_type": "stream",
     "text": [
      "Inserisci un numero intero:  220\n"
     ]
    },
    {
     "name": "stdout",
     "output_type": "stream",
     "text": [
      "[2, 2, 5, 11]\n"
     ]
    }
   ],
   "source": [
    "# Esercizio Memorizza e stampa tutti i fattori di un numero dato in input. \n",
    "# Esempio: • input: 150 • output: [2, 3, 5, 5]\n",
    "\n",
    "num = input(\"Inserisci un numero intero: \")\n",
    "lista_di_fattori = []\n",
    "lista_numeri_primi = [2, 3, 5, 7, 11, 13, 17, 19]\n",
    "i = 0\n",
    "numero = int(num) \n",
    "\n",
    "while i < len(lista_numeri_primi):\n",
    "    if numero % (lista_numeri_primi[i]) == 0:\n",
    "        lista_di_fattori.append((lista_numeri_primi[i]))\n",
    "        numero = numero/(lista_numeri_primi[i])\n",
    "    else:\n",
    "        i = i + 1\n",
    "    \n",
    "print(lista_di_fattori)"
   ]
  },
  {
   "cell_type": "code",
   "execution_count": 189,
   "id": "89cd22ab-1757-438d-b379-7d34fd6edcd6",
   "metadata": {},
   "outputs": [
    {
     "name": "stdout",
     "output_type": "stream",
     "text": [
      "E\n",
      "p\n",
      "i\n",
      "c\n",
      "o\n",
      "d\n",
      "e\n"
     ]
    }
   ],
   "source": [
    "# Stampare ogni carattere della stringa, uno su ogni riga, utilizzando un costrutto for.\n",
    "\n",
    "nome_scuola = \"Epicode\"\n",
    "i = 0 \n",
    "for i in \"Epicode\":\n",
    "    print(i)\n"
   ]
  },
  {
   "cell_type": "code",
   "execution_count": 211,
   "id": "0420b4d8-bfcc-46b6-9729-54156e3bdfc1",
   "metadata": {},
   "outputs": [
    {
     "name": "stdin",
     "output_type": "stream",
     "text": [
      "Inserisci un numero intero:  5\n",
      "Inserisci il radicale di patenza:  3\n"
     ]
    },
    {
     "name": "stdout",
     "output_type": "stream",
     "text": [
      "125\n",
      "625\n",
      "3125\n"
     ]
    }
   ],
   "source": [
    "# calcolare le prime 10 potenze di due e stampare la lista creata con un ciclo for \n",
    "\n",
    "lista_di_potenze = []\n",
    "radice = input(\"Inserisci un numero intero: \")\n",
    "esponente = input(\"Inserisci il radicale di patenza: \")\n",
    "e = int(esponente)\n",
    "\n",
    "for i in range(e):\n",
    "    potenza = int(radice) ** e \n",
    "    print(potenza)\n",
    "    lista_di_potenze.append(potenza)\n",
    "    e += 1 "
   ]
  },
  {
   "cell_type": "code",
   "execution_count": 231,
   "id": "c849f44e-959a-4299-acf0-a4f4cb27423f",
   "metadata": {},
   "outputs": [
    {
     "name": "stdout",
     "output_type": "stream",
     "text": [
      "70 per numero mesi =  12\n"
     ]
    }
   ],
   "source": [
    "# Abbiamo una lista con i guadagni degli ultimi 12 mesi: guadagni = [100, 90, 70, 40, 50, 80, 90, 120, 80, 20, 50, 50] \n",
    "# usando un costrutto for, calcolare la media dei guadagni e stamparla a video.\n",
    "\n",
    "guadagni = [100, 90, 70, 40, 50, 80, 90, 120, 80, 20, 50, 50] \n",
    "\n",
    "count = 1\n",
    "mesi = 0 \n",
    "tot = 0 \n",
    "\n",
    "for i in guadagni:\n",
    "    tot = tot + i\n",
    "    mesi += count\n",
    "\n",
    "media = tot / mesi \n",
    "print(round(media), \"per numero mesi = \",mesi)"
   ]
  },
  {
   "cell_type": "code",
   "execution_count": 276,
   "id": "749372b3-7e7b-41a9-baba-06a5b3bafb84",
   "metadata": {},
   "outputs": [
    {
     "name": "stdout",
     "output_type": "stream",
     "text": [
      "1\n",
      "1\n",
      "La parola in posizione 3 non contiene la lettera e\n",
      "1\n",
      "4\n",
      "3\n",
      "2\n",
      "La parola in posizione 8 non contiene la lettera e\n",
      "1\n",
      "2\n",
      "La parola in posizione 11 non contiene la lettera e\n",
      "1\n",
      "2\n",
      "2\n"
     ]
    }
   ],
   "source": [
    "# = [\"Albergo\", \"Sedia\", \"Borgo\", \"Petalo\", \"Eremo\", \"Belvedere\", \"Semestre\", \n",
    "# \"Esteta\", \"Sosta\", \"Orpello\", \"Abete\", \"Orologio\", \"Cesta\", \"Ermellino\"] \n",
    "# stampiamo, per ogni parola, quante volte appare la lettera \"e\"; facciamo attenzione al fatto che appare sia maiuscola che minuscola.\n",
    "\n",
    "parole = [\"Albergo\",\"Sedia\",\"Borgo\",\"Petalo\",\"Belvedere\",\"Semestre\",\"Esteta\",\"Sosta\",\"Orpello\",\"Abete\",\"Orologio\",\"Cesta\",\"Ermellino\",\"Eremo\"] \n",
    "\n",
    "\n",
    "somma_1 = 1 \n",
    "posizione_in_lista = 0 \n",
    "\n",
    "for parola in parole:\n",
    "    parola_low = parola.lower()\n",
    "    posizione_in_lista += somma_1\n",
    "    if parola_low.find('e') >= 0:\n",
    "        contatore = parola_low.count('e')\n",
    "        print(contatore)\n",
    "    else: \n",
    "        print(f\"La parola in posizione {posizione_in_lista} non contiene la lettera e\")\n",
    "\n",
    "\n"
   ]
  },
  {
   "cell_type": "code",
   "execution_count": null,
   "id": "76f5eab3-623f-44e6-a095-de65e8007da4",
   "metadata": {},
   "outputs": [],
   "source": []
  }
 ],
 "metadata": {
  "kernelspec": {
   "display_name": "anaconda-panel-2023.05-py310",
   "language": "python",
   "name": "conda-env-anaconda-panel-2023.05-py310-py"
  },
  "language_info": {
   "codemirror_mode": {
    "name": "ipython",
    "version": 3
   },
   "file_extension": ".py",
   "mimetype": "text/x-python",
   "name": "python",
   "nbconvert_exporter": "python",
   "pygments_lexer": "ipython3",
   "version": "3.11.5"
  }
 },
 "nbformat": 4,
 "nbformat_minor": 5
}
