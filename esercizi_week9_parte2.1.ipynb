{
 "cells": [
  {
   "cell_type": "code",
   "execution_count": 11,
   "id": "3e41e604-df1e-4567-a793-a5045f7ca308",
   "metadata": {},
   "outputs": [
    {
     "name": "stdout",
     "output_type": "stream",
     "text": [
      "{'Ada': 'Punto', 'Ben': 'Multipla', 'charlie': 'Golf', 'Debbie': '107'}\n",
      "dict_values(['Punto', 'Multipla', 'Golf', '107'])\n",
      "Debbie guida una 107\n"
     ]
    }
   ],
   "source": [
    "# Creiamo un dizionario che assegni ad ogni proprietario la sua auto, sapendo che:\n",
    "# Ada guida una Punto • Ben guida una Multipla • Charlie guida una Golf\n",
    "# Debbie guida una 107 Stampiamo il dizionario per intero, e poi l'auto associata a Debbie.\n",
    "\n",
    "libro_mastro = {\"Ada\": \"Punto\", \"Ben\": \"Multipla\", \"charlie\": \"Golf\", \"Debbie\": \"107\"}\n",
    "\n",
    "print(libro_mastro)\n",
    "print(libro_mastro.values())\n",
    "\n",
    "\n",
    "print(\"Debbie guida una\", libro_mastro[\"Debbie\"])"
   ]
  },
  {
   "cell_type": "code",
   "execution_count": 13,
   "id": "1a79149c-2d1b-4065-b974-4f34b19c03f0",
   "metadata": {},
   "outputs": [
    {
     "name": "stdout",
     "output_type": "stream",
     "text": [
      "Punto\n",
      "Golf\n",
      "107\n"
     ]
    }
   ],
   "source": [
    "# dizionario_auto = {\"Ada\": \"Punto\", \"Ben\": \"Multipla\", \"Charlie\": \"Golf\", \"Debbie\": \"107\"} \n",
    "# Con un ciclo, e usando il metodo .values(), stampiamo a video tutte le auto che non sono una Multipla.\n",
    "\n",
    "libro_mastro = {\"Ada\": \"Punto\", \"Ben\": \"Multipla\", \"charlie\": \"Golf\", \"Debbie\": \"107\"}\n",
    "\n",
    "list_auto = libro_mastro.values()\n",
    "\n",
    "for auto in list_auto:\n",
    "    if auto != \"Multipla\":\n",
    "        print(auto)\n",
    "\n"
   ]
  },
  {
   "cell_type": "code",
   "execution_count": 41,
   "id": "828b7127-876f-422f-86bf-a2dc34da7f10",
   "metadata": {},
   "outputs": [
    {
     "name": "stdout",
     "output_type": "stream",
     "text": [
      "{'Ada': 'Punto', 'Ben': 'Polo', 'Charlie': 'Golf', 'Debbie': '107', 'Emily': 'A1', 'Fred': 'Octavia', 'Grace': 'Yaris', 'Hugh': 'Clio'}\n"
     ]
    }
   ],
   "source": [
    "# Abbiamo due dizionari che assegnano ad ogni proprietario la propria auto:\n",
    "# dizionario_auto = {\"Ada\": \"Punto\", \"Ben\": \"Multipla\", \"Charlie\": \"Golf\", \"Debbie\": \"107\", \"Emily\": \"A1\"} \n",
    "# nuovi_proprietari = {\"Ben\": \"Polo\", \"Fred\": \"Octavia\", \"Grace\": \"Yaris\", \"Hugh\": \"Clio\"} \n",
    "# Aggiornare il dizionario dizionario_auto con i dati contenuti in nuovi_proprietari e stamparlo.\n",
    "# Cosa è successo a Ben?\n",
    "\n",
    "\n",
    "dizionario_auto = {\"Ada\": \"Punto\", \"Ben\": \"Multipla\", \"Charlie\": \"Golf\", \"Debbie\": \"107\", \"Emily\": \"A1\"}\n",
    "nuovi_proprietari = {\"Ben\": \"Polo\", \"Fred\": \"Octavia\", \"Grace\": \"Yaris\", \"Hugh\": \"Clio\"} \n",
    "\n",
    "#ricordarsi che update confronta e aggiunge in automatico \n",
    "dizionario_auto.update((nuovi_proprietari)) \n",
    "print(dizionario_auto) \n",
    "\n",
    "\n",
    "\n"
   ]
  },
  {
   "cell_type": "code",
   "execution_count": 61,
   "id": "233a4c06-a1a1-490b-8ba8-ee7c199bba7f",
   "metadata": {},
   "outputs": [
    {
     "name": "stdin",
     "output_type": "stream",
     "text": [
      "Inserisci una lista di numeri separati da ,:  45,8,9,1,23\n"
     ]
    },
    {
     "name": "stdout",
     "output_type": "stream",
     "text": [
      "[45]\n",
      "[45, 8]\n",
      "[45, 8, 9]\n",
      "[45, 8, 9, 1]\n",
      "[45, 8, 9, 1, 23]\n",
      "Il massimo n è: 45\n",
      "Il minimo n è: 1\n"
     ]
    }
   ],
   "source": [
    "#Scrivere un programma che, data una lista di numeri, fornisca in output il minimo e il massimo \n",
    "#(possiamo usare o meno le funzioni built-in min() e max()\n",
    "\n",
    "\n",
    "\n",
    "lista_numeri = []\n",
    "numeri_finali = []\n",
    "\n",
    "lista_numeri = input(\"Inserisci una lista di numeri separati da ,: \") \n",
    "numeri_singoli = lista_numeri.split(\",\")\n",
    "\n",
    "for n in numeri_singoli: \n",
    "    numero = int(n)\n",
    "    numeri_finali.append(numero) \n",
    "    print(numeri_finali)\n",
    "    \n",
    "max_n = max(numeri_finali)\n",
    "min_n = min(numeri_finali)\n",
    "\n",
    "\n",
    "print(\"Il massimo n è:\", max_n)\n",
    "print(\"Il minimo n è:\", min_n)"
   ]
  },
  {
   "cell_type": "code",
   "execution_count": 111,
   "id": "2cfb54c6-742f-4f2b-a048-176735013b2a",
   "metadata": {},
   "outputs": [
    {
     "name": "stdin",
     "output_type": "stream",
     "text": [
      "Inserisci una lista di numeri separati da , e maggiore di 3 elementi:  3,5,6,7,7,78,8,9,2,23,4,5,1,1,2\n"
     ]
    },
    {
     "name": "stdout",
     "output_type": "stream",
     "text": [
      "['5', '23', '4', '78', '1', '6', '7', '2', '3', '9', '8']\n",
      "[1, 2, 3, 4, 5, 6, 7, 8, 9, 23, 78]\n",
      "10\n",
      "Il 3 numeri maggiori sono: 78 23 9\n"
     ]
    }
   ],
   "source": [
    "# entra una lista e gestire 3 output maggiori inoltre, se sono uguali alcuni valori e se la lista è minore di due elementi \n",
    "\n",
    "lista = []\n",
    "numeri = []\n",
    "numeri_in_ordine = []\n",
    "set_lista = []\n",
    "\n",
    "\n",
    "while len(lista) < 3:\n",
    "    lista = input(\"Inserisci una lista di numeri separati da , e maggiore di 3 elementi: \")    \n",
    "    numeri = lista.split(\",\")\n",
    "    set_lista = list(set(numeri))\n",
    "\n",
    "\n",
    "print(set_lista)\n",
    "for n in set_lista: \n",
    "    numeri_in_ordine.append((int(n)))\n",
    "\n",
    "\n",
    "\n",
    "numeri_in_ordine.sort()\n",
    "print(numeri_in_ordine)\n",
    "\n",
    "x = (len(numeri_in_ordine)-1)\n",
    "print(x)\n",
    "\n",
    "max_p = numeri_in_ordine[x]\n",
    "max_s = numeri_in_ordine[x-1]\n",
    "max_t = numeri_in_ordine[x-2]\n",
    "\n",
    "print(\"Il 3 numeri maggiori sono:\", max_p, max_s, max_t)"
   ]
  },
  {
   "cell_type": "code",
   "execution_count": 126,
   "id": "0fc79e18-badc-4a6f-be8f-5cbc3dc06a76",
   "metadata": {},
   "outputs": [
    {
     "name": "stdin",
     "output_type": "stream",
     "text": [
      "Inserisci una lista di numeri separati da , e maggiore di 3 elementi:  54,77,88,43,23,0\n",
      "Inserisci il numero k:  56\n"
     ]
    },
    {
     "name": "stdout",
     "output_type": "stream",
     "text": [
      "['54', '77', '88', '43', '23', '0']\n",
      "54 minore di k\n",
      "77 maggiore o uguale di k\n",
      "88 maggiore o uguale di k\n",
      "43 minore di k\n",
      "23 minore di k\n",
      "0 minore di k\n"
     ]
    }
   ],
   "source": [
    "# Scrivere un programma che • in input acquisisce una lista di numeri e un numero K \n",
    "# in output, dovrà restituire la media (cosa vuol dire la media=?, forse intedevate tutti i numeri ???) \n",
    "# di tutti i numeri nella lista maggiori o uguali a K \n",
    "# se non ce ne dovesse essere nessuno, dovrà stampare a schermo un messaggio adeguato.\n",
    "\n",
    "lista_dei_numeri = []\n",
    "numeri_divisi_correttamente = []\n",
    "k = 0\n",
    "\n",
    "while len(lista_dei_numeri) < 3:\n",
    "    lista_dei_numeri = input(\"Inserisci una lista di numeri separati da , e maggiore di 3 elementi: \") \n",
    "    k = input(\"Inserisci il numero k: \")\n",
    "    numeri_divisi_correttamente = lista_dei_numeri.split(\",\")\n",
    "    print(numeri_divisi_correttamente)\n",
    "    set_lista = list(set(lista_dei_numeri))\n",
    "\n",
    "\n",
    "for numero in numeri_divisi_correttamente: \n",
    "    if numero >= k:\n",
    "        print(numero,\"maggiore o uguale di k\")  \n",
    "    else: \n",
    "        print(numero,\"minore di k\") \n",
    "        \n",
    "\n",
    "\n"
   ]
  },
  {
   "cell_type": "code",
   "execution_count": 140,
   "id": "eefdc01a-1add-4677-8587-9e42c8ea4932",
   "metadata": {},
   "outputs": [
    {
     "name": "stdin",
     "output_type": "stream",
     "text": [
      "Inserisci i valori:  4,3,8,1\n"
     ]
    },
    {
     "name": "stdout",
     "output_type": "stream",
     "text": [
      "****\n",
      "***\n",
      "********\n",
      "*\n"
     ]
    }
   ],
   "source": [
    "# Scrivere un programma che, data una lista di numeri, come output stamperà lo stesso numero di asterischi su righe diverse,\n",
    "# ottenendo una semplice visualizzazione grafica \n",
    "# Esempio, supponendo di avere il seguente input: numeri = [5, 2, 3, 4]\n",
    "\n",
    "valori_x = []\n",
    "\n",
    "x = input(\"Inserisci i valori: \")\n",
    "x_da_stampare = x.split(\",\")\n",
    "\n",
    "for val in x_da_stampare:\n",
    "    n = int(val)\n",
    "    print(\"*\" * n, end=\"\\n\")\n"
   ]
  },
  {
   "cell_type": "code",
   "execution_count": 184,
   "id": "87640919-788d-4c4c-8795-ecb2e79f7b90",
   "metadata": {},
   "outputs": [
    {
     "name": "stdout",
     "output_type": "stream",
     "text": [
      "['ABCDEF95G01A123B', 'STUVWX95Z04A654E', 'DEFGHI95J06A987G']\n",
      "Cognome: ABC Nome: DEF\n",
      "Cognome: STU Nome: VWX\n",
      "Cognome: DEF Nome: GHI\n"
     ]
    }
   ],
   "source": [
    "# lista_cf = [\"ABCDEF95G01A123B\", \"GHIJKL91M02A321C\", \"MNOPQR89S03A456D\", \"STUVWX95Z04A654E\", \"XYZABC01D05A789F\", \"DEFGHI95J06A987G\"]\n",
    "# trovare i codici fiscali che contengono \"95\", metterli in una lista, e alla fine stamparla; • inoltre, per ognuno di essi, stampare \n",
    "# a video i caratteri relativi al nome e cognome \n",
    "\n",
    "lista_cf = [\"ABCDEF95G01A123B\", \"GHIJKL91M02A321C\", \"MNOPQR89S03A456D\", \"STUVWX95Z04A654E\", \"XYZABC01D05A789F\", \"DEFGHI95J06A987G\"]\n",
    "new_list_95 = []\n",
    "\n",
    "count = 0 \n",
    "\n",
    "for cf in lista_cf:\n",
    "    count = 0 \n",
    "    for character in cf:\n",
    "        count = count + 1\n",
    "        if character == \"9\":\n",
    "            if cf[count] == \"5\":\n",
    "                new_list_95.append(cf)\n",
    "\n",
    "print(new_list_95)\n",
    "for cc in new_list_95:\n",
    "    print(\"Cognome:\", cc[0:3], \"Nome:\", cc[3:6])\n",
    "        "
   ]
  }
 ],
 "metadata": {
  "kernelspec": {
   "display_name": "anaconda-panel-2023.05-py310",
   "language": "python",
   "name": "conda-env-anaconda-panel-2023.05-py310-py"
  },
  "language_info": {
   "codemirror_mode": {
    "name": "ipython",
    "version": 3
   },
   "file_extension": ".py",
   "mimetype": "text/x-python",
   "name": "python",
   "nbconvert_exporter": "python",
   "pygments_lexer": "ipython3",
   "version": "3.11.5"
  }
 },
 "nbformat": 4,
 "nbformat_minor": 5
}
